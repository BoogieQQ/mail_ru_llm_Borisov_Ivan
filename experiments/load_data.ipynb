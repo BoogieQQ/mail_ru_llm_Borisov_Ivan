{
 "cells": [
  {
   "cell_type": "markdown",
   "id": "d1a0fc5f-595e-4972-bd4f-afd5e0bbb35f",
   "metadata": {},
   "source": [
    "# Загрузка данных\n",
    "Целью данного ноутбука является парсинг vk-пабликов, содержащих анекдоты в текстовом формате.\n",
    "\n",
    "Для этого были взяты паблики: \n",
    "1. [anekdotikategoriib](vk.com/anekdotikategoriib)\n",
    "2. [smeshnye__anekdoty](vk.com/smeshnye__anekdoty)\n",
    "3. [baneksbest](vk.com/baneksbest) \n",
    "4. [anecdotess](vk.com/anecdotess) \n",
    "5. [megaotriv](vk.com/megaotriv) \n",
    "6. [anecdotes](vk.com/anecdotes) \n",
    "7. [anekdot](vk.com/anekdot) \n",
    "8. [anekdot18p](vk.com/anekdot18p) \n",
    "9. [best__jokes](vk.com/best__jokes) \n",
    "10. [a_story](vk.com/a_story)  \n",
    "11. [anek_net](vk.com/anek_net) \n",
    "12. [an18p](vk.com/an18p) \n",
    "13. [lookpics](vk.com/lookpics) \n",
    "14. [anekdotshort](vk.com/anekdotshort) \n",
    "15. [anekdotpremium](vk.com/anekdotpremium) \n",
    "16. [luchshiyeanekdoty](vk.com/luchshiyeanekdoty) \n",
    "17. [jewishpugs](vk.com/jewishpugs) \n",
    "18. [lol.story ](vk.com/lol.story) \n",
    "\n",
    "После подгрузки данных была произведена минимальная фильтрация данных:\n",
    "- Попытка удаления рекламных постов\n",
    "- Удаление строк маленькой длины (предположительно, подписей к картинкам)\n",
    "\n",
    "Итого:\n",
    "- Датасет содержит как короткие анекдоты, так и длинные комичные истории из жизни.\n",
    "- В силу специфики домена датасет достаточно токсичный (предварительной обработки токсичности не производилось)."
   ]
  },
  {
   "cell_type": "code",
   "execution_count": 22,
   "id": "3a07f90e-021c-4bf5-a57a-5cea91cc9e91",
   "metadata": {},
   "outputs": [],
   "source": [
    "import requests\n",
    "from tqdm import tqdm\n",
    "import pandas as pd\n",
    "import time\n",
    "import re"
   ]
  },
  {
   "cell_type": "code",
   "execution_count": 3,
   "id": "de710d0f-fce8-49e5-a3a5-d7c99800292a",
   "metadata": {},
   "outputs": [],
   "source": [
    "TOKEN_USER = 'vk1.a.ime3n4NS1itmOlShAWKIwK8vRDiEWkFJgjpbZSwCGkG_ioIjVFxPxbW-G3jPv19OmWPCG0tu6XHLuP4aQNCOWckJFUUziY2lMLSjPofcUYo8kLIHarHZJwYt4kDhuUPnsQbrmnkoPeFnwf1uYeGwEeTC9pHty-sihBDgns_9lIy38IVLmqoK9yK3hNCuMeVjE60c7gL_FPiJbijUjfNm7w'\n",
    "VERSION = 5.131"
   ]
  },
  {
   "cell_type": "code",
   "execution_count": 4,
   "id": "bfaafcc5-d901-440c-80be-9b1989435305",
   "metadata": {},
   "outputs": [],
   "source": [
    "def parse_public(domain, blocks, offset = 0):        \n",
    "    texts = []\n",
    "    # через api vk вызываем статистику постов\n",
    "    for i in tqdm(range(blocks)):\n",
    "        response = requests.get('https://api.vk.com/method/wall.get',\n",
    "        params={'access_token': TOKEN_USER,\n",
    "            'v': VERSION,\n",
    "            'domain': domain,\n",
    "            'count': 100,\n",
    "            'offset': i*100 + offset})\n",
    "        try:\n",
    "            data = response.json()['response']['items']\n",
    "            texts.extend([item['text'].strip() for item in data if item['text'].strip()])\n",
    "        except Exception as er:\n",
    "            print(f'Error: {er}')\n",
    "    return texts"
   ]
  },
  {
   "cell_type": "code",
   "execution_count": 5,
   "id": "8c339d69-0bd1-4c0b-88c6-edba65ff61c4",
   "metadata": {},
   "outputs": [],
   "source": [
    "def save_dataframe(df, name):\n",
    "    df.to_csv(name)"
   ]
  },
  {
   "cell_type": "code",
   "execution_count": 83,
   "id": "dada1231-418b-4a36-b6f1-c11601ffb02e",
   "metadata": {},
   "outputs": [
    {
     "data": {
      "text/html": [
       "<div>\n",
       "<style scoped>\n",
       "    .dataframe tbody tr th:only-of-type {\n",
       "        vertical-align: middle;\n",
       "    }\n",
       "\n",
       "    .dataframe tbody tr th {\n",
       "        vertical-align: top;\n",
       "    }\n",
       "\n",
       "    .dataframe thead th {\n",
       "        text-align: right;\n",
       "    }\n",
       "</style>\n",
       "<table border=\"1\" class=\"dataframe\">\n",
       "  <thead>\n",
       "    <tr style=\"text-align: right;\">\n",
       "      <th></th>\n",
       "      <th>text</th>\n",
       "    </tr>\n",
       "  </thead>\n",
       "  <tbody>\n",
       "    <tr>\n",
       "      <th>0</th>\n",
       "      <td>Сильно пьяного Пушкина не пускают на бал. Лерм...</td>\n",
       "    </tr>\n",
       "    <tr>\n",
       "      <th>1</th>\n",
       "      <td>Что делает вебкам-модель на маяке? \\n \\nСветит...</td>\n",
       "    </tr>\n",
       "    <tr>\n",
       "      <th>2</th>\n",
       "      <td>Заходит человек в магазин тканей: \\n— Отмерьте...</td>\n",
       "    </tr>\n",
       "    <tr>\n",
       "      <th>3</th>\n",
       "      <td>Штирлиц обкурился, стоит перед зеркалом: \\n \\n...</td>\n",
       "    </tr>\n",
       "    <tr>\n",
       "      <th>4</th>\n",
       "      <td>— Смотрел вчера хоккей? \\n— Да. \\n— Видал как ...</td>\n",
       "    </tr>\n",
       "    <tr>\n",
       "      <th>...</th>\n",
       "      <td>...</td>\n",
       "    </tr>\n",
       "    <tr>\n",
       "      <th>24995</th>\n",
       "      <td>Поп в церковно-приходской школе ведёт урок физ...</td>\n",
       "    </tr>\n",
       "    <tr>\n",
       "      <th>24996</th>\n",
       "      <td>Беременная еврейка пришла к гинекологу. \\nОн е...</td>\n",
       "    </tr>\n",
       "    <tr>\n",
       "      <th>24997</th>\n",
       "      <td>В лесу стоит привязанный к дереву мужик и орёт...</td>\n",
       "    </tr>\n",
       "    <tr>\n",
       "      <th>24998</th>\n",
       "      <td>Посетитель спрашивает официанта:\\n- А ваши кот...</td>\n",
       "    </tr>\n",
       "    <tr>\n",
       "      <th>24999</th>\n",
       "      <td>– А давайте вызовем проститутку? \\n– Давайте! ...</td>\n",
       "    </tr>\n",
       "  </tbody>\n",
       "</table>\n",
       "<p>25000 rows × 1 columns</p>\n",
       "</div>"
      ],
      "text/plain": [
       "                                                    text\n",
       "0      Сильно пьяного Пушкина не пускают на бал. Лерм...\n",
       "1      Что делает вебкам-модель на маяке? \\n \\nСветит...\n",
       "2      Заходит человек в магазин тканей: \\n— Отмерьте...\n",
       "3      Штирлиц обкурился, стоит перед зеркалом: \\n \\n...\n",
       "4      — Смотрел вчера хоккей? \\n— Да. \\n— Видал как ...\n",
       "...                                                  ...\n",
       "24995  Поп в церковно-приходской школе ведёт урок физ...\n",
       "24996  Беременная еврейка пришла к гинекологу. \\nОн е...\n",
       "24997  В лесу стоит привязанный к дереву мужик и орёт...\n",
       "24998  Посетитель спрашивает официанта:\\n- А ваши кот...\n",
       "24999  – А давайте вызовем проститутку? \\n– Давайте! ...\n",
       "\n",
       "[25000 rows x 1 columns]"
      ]
     },
     "execution_count": 83,
     "metadata": {},
     "output_type": "execute_result"
    }
   ],
   "source": [
    "texts = parse_public('anekdotikategoriib', 250, 1)\n",
    "df = pd.DataFrame({'text': texts})\n",
    "display(df)\n",
    "save_dataframe(df, 'categoriiB.csv')"
   ]
  },
  {
   "cell_type": "code",
   "execution_count": 110,
   "id": "8439a451-5cdc-4d97-bbee-26c2e5fbf921",
   "metadata": {},
   "outputs": [
    {
     "name": "stderr",
     "output_type": "stream",
     "text": [
      "100%|█████████████████████████████████████████| 678/678 [11:37<00:00,  1.03s/it]\n"
     ]
    }
   ],
   "source": [
    "texts = parse_public('smeshnye__anekdoty', 678, 1)\n",
    "df = pd.DataFrame({'text': texts})\n",
    "save_dataframe(df, 'smeshnye_anekdoty.csv')"
   ]
  },
  {
   "cell_type": "code",
   "execution_count": 111,
   "id": "567a05bb-bf9f-43a2-b1d0-1e0e629299df",
   "metadata": {},
   "outputs": [
    {
     "name": "stderr",
     "output_type": "stream",
     "text": [
      "100%|███████████████████████████████████████████| 18/18 [00:14<00:00,  1.21it/s]\n"
     ]
    }
   ],
   "source": [
    "texts = parse_public('baneksbest', 18, 1)\n",
    "df = pd.DataFrame({'text': texts})\n",
    "save_dataframe(df, 'baneksbest.csv')"
   ]
  },
  {
   "cell_type": "code",
   "execution_count": 112,
   "id": "29ba0c78-7813-4c82-8d4b-2c360b2e4c31",
   "metadata": {},
   "outputs": [
    {
     "name": "stderr",
     "output_type": "stream",
     "text": [
      "100%|█████████████████████████████████████████| 980/980 [13:49<00:00,  1.18it/s]\n"
     ]
    }
   ],
   "source": [
    "texts = parse_public('anecdotess', 980, 1)\n",
    "df = pd.DataFrame({'text': texts})\n",
    "save_dataframe(df, 'anecdotess.csv')"
   ]
  },
  {
   "cell_type": "code",
   "execution_count": 113,
   "id": "c8aa389f-b89f-42bb-97d9-10b583790f95",
   "metadata": {},
   "outputs": [
    {
     "name": "stderr",
     "output_type": "stream",
     "text": [
      "100%|███████████████████████████████████████| 1629/1629 [22:15<00:00,  1.22it/s]\n"
     ]
    }
   ],
   "source": [
    "texts = parse_public('megaotriv', 1629, 7)\n",
    "df = pd.DataFrame({'text': texts})\n",
    "save_dataframe(df, 'megaotriv.csv')"
   ]
  },
  {
   "cell_type": "code",
   "execution_count": 114,
   "id": "95152289-a66e-4307-bc79-4ab50ff5262f",
   "metadata": {},
   "outputs": [
    {
     "name": "stderr",
     "output_type": "stream",
     "text": [
      "100%|█████████████████████████████████████████| 693/693 [10:23<00:00,  1.11it/s]\n"
     ]
    }
   ],
   "source": [
    "texts = parse_public('anecdotes', 693, 0)\n",
    "df = pd.DataFrame({'text': texts})\n",
    "save_dataframe(df, 'anecdotes.csv')"
   ]
  },
  {
   "cell_type": "code",
   "execution_count": 6,
   "id": "b7d0be61-ef72-4c91-acf6-8ef723f82af6",
   "metadata": {},
   "outputs": [
    {
     "name": "stderr",
     "output_type": "stream",
     "text": [
      "100%|████████████████████████████████████████████████████████████████████████████████████████████████████| 918/918 [13:33<00:00,  1.13it/s]\n"
     ]
    }
   ],
   "source": [
    "texts = parse_public('anekdot', 918, 1)\n",
    "df = pd.DataFrame({'text': texts})\n",
    "save_dataframe(df, 'anekdot.csv')"
   ]
  },
  {
   "cell_type": "code",
   "execution_count": 116,
   "id": "5c76293f-4a9a-42dc-b6d2-08b8c9e2cffa",
   "metadata": {},
   "outputs": [
    {
     "name": "stderr",
     "output_type": "stream",
     "text": [
      "100%|█████████████████████████████████████████| 615/615 [06:49<00:00,  1.50it/s]\n"
     ]
    }
   ],
   "source": [
    "texts = parse_public('anekdot18p', 615, 1)\n",
    "df = pd.DataFrame({'text': texts})\n",
    "save_dataframe(df, 'anekdot18p.csv')"
   ]
  },
  {
   "cell_type": "code",
   "execution_count": 117,
   "id": "facd6f8a-7e71-4210-9e8b-c7171686840a",
   "metadata": {},
   "outputs": [
    {
     "name": "stderr",
     "output_type": "stream",
     "text": [
      "100%|███████████████████████████████████████| 2040/2040 [23:53<00:00,  1.42it/s]\n"
     ]
    }
   ],
   "source": [
    "texts = parse_public('best__jokes', 2040, 1)\n",
    "df = pd.DataFrame({'text': texts})\n",
    "save_dataframe(df, 'best_jokes.csv')"
   ]
  },
  {
   "cell_type": "code",
   "execution_count": 118,
   "id": "ce503dcb-9d12-4f6d-9131-8f7f3c64dacb",
   "metadata": {},
   "outputs": [
    {
     "name": "stderr",
     "output_type": "stream",
     "text": [
      "100%|█████████████████████████████████████████| 740/740 [09:07<00:00,  1.35it/s]\n"
     ]
    }
   ],
   "source": [
    "texts = parse_public('a_story', 740, 1)\n",
    "df = pd.DataFrame({'text': texts})\n",
    "save_dataframe(df, 'a_story.csv')"
   ]
  },
  {
   "cell_type": "code",
   "execution_count": 131,
   "id": "dcca6ff8-e8c2-4c54-97ef-eae72e6b3541",
   "metadata": {},
   "outputs": [
    {
     "name": "stderr",
     "output_type": "stream",
     "text": [
      "100%|███████████████████████████████████████| 1108/1108 [11:59<00:00,  1.54it/s]\n"
     ]
    }
   ],
   "source": [
    "texts = parse_public('anek_net', 1108, 1)\n",
    "df = pd.DataFrame({'text': texts})\n",
    "save_dataframe(df, 'anek_net.csv')"
   ]
  },
  {
   "cell_type": "code",
   "execution_count": 132,
   "id": "343b1015-ce0c-4041-9638-f8d1832d8478",
   "metadata": {},
   "outputs": [
    {
     "name": "stderr",
     "output_type": "stream",
     "text": [
      "100%|█████████████████████████████████████████| 576/576 [06:08<00:00,  1.56it/s]\n"
     ]
    }
   ],
   "source": [
    "texts = parse_public('an18p', 576, 1)\n",
    "df = pd.DataFrame({'text': texts})\n",
    "save_dataframe(df, 'an18p.csv')"
   ]
  },
  {
   "cell_type": "code",
   "execution_count": 135,
   "id": "85a97498-df8d-43f4-a430-fb58f68f47a9",
   "metadata": {},
   "outputs": [
    {
     "name": "stderr",
     "output_type": "stream",
     "text": [
      "100%|█████████████████████████████████████████| 267/267 [07:05<00:00,  1.60s/it]\n"
     ]
    }
   ],
   "source": [
    "texts = parse_public('lookpics', 267, 1)\n",
    "df = pd.DataFrame({'text': texts})\n",
    "save_dataframe(df, 'lookpics.csv')"
   ]
  },
  {
   "cell_type": "code",
   "execution_count": 136,
   "id": "fcfc6161-f530-4074-8a0f-397bb547f03a",
   "metadata": {},
   "outputs": [
    {
     "name": "stderr",
     "output_type": "stream",
     "text": [
      "100%|█████████████████████████████████████████| 647/647 [07:38<00:00,  1.41it/s]\n"
     ]
    }
   ],
   "source": [
    "texts = parse_public('anekdotshort', 647, 1)\n",
    "df = pd.DataFrame({'text': texts})\n",
    "save_dataframe(df, 'anekdotshort.csv')"
   ]
  },
  {
   "cell_type": "code",
   "execution_count": 137,
   "id": "2f983d5b-8323-4e44-87ac-1d8707ad5fc4",
   "metadata": {},
   "outputs": [
    {
     "name": "stderr",
     "output_type": "stream",
     "text": [
      "100%|███████████████████████████████████████| 1045/1045 [12:46<00:00,  1.36it/s]\n"
     ]
    }
   ],
   "source": [
    "texts = parse_public('anekdotpremium', 1045, 1)\n",
    "df = pd.DataFrame({'text': texts})\n",
    "save_dataframe(df, 'anekdotpremium.csv')"
   ]
  },
  {
   "cell_type": "code",
   "execution_count": 160,
   "id": "8ded07e5-98fb-4e28-9038-5c1c5737369c",
   "metadata": {},
   "outputs": [
    {
     "name": "stderr",
     "output_type": "stream",
     "text": [
      "100%|█████████████████████████████████████████| 105/105 [01:30<00:00,  1.15it/s]\n"
     ]
    }
   ],
   "source": [
    "texts = parse_public('luchshiyeanekdoty', 105, 1)\n",
    "df = pd.DataFrame({'text': texts})\n",
    "save_dataframe(df, 'luchshiyeanekdoty.csv')"
   ]
  },
  {
   "cell_type": "code",
   "execution_count": 161,
   "id": "4839f190-10f1-4c32-ab95-c47a82b265f1",
   "metadata": {},
   "outputs": [
    {
     "name": "stderr",
     "output_type": "stream",
     "text": [
      "100%|███████████████████████████████████████████| 48/48 [01:01<00:00,  1.28s/it]\n"
     ]
    }
   ],
   "source": [
    "texts = parse_public('jewishpugs', 48, 1)\n",
    "df = pd.DataFrame({'text': texts})\n",
    "save_dataframe(df, 'jewishpugs.csv')"
   ]
  },
  {
   "cell_type": "code",
   "execution_count": 162,
   "id": "79f5ea32-93c8-484b-b21d-bf3d81252b77",
   "metadata": {},
   "outputs": [
    {
     "name": "stderr",
     "output_type": "stream",
     "text": [
      "100%|█████████████████████████████████████████| 129/129 [01:58<00:00,  1.09it/s]\n"
     ]
    }
   ],
   "source": [
    "texts = parse_public('lol.story', 129, 1)\n",
    "df = pd.DataFrame({'text': texts})\n",
    "save_dataframe(df, 'lolstory.csv')"
   ]
  },
  {
   "cell_type": "code",
   "execution_count": 37,
   "id": "9029c7b0-7ce8-47fb-8f28-16f038a7adff",
   "metadata": {},
   "outputs": [
    {
     "data": {
      "text/plain": [
       "18"
      ]
     },
     "execution_count": 37,
     "metadata": {},
     "output_type": "execute_result"
    }
   ],
   "source": [
    "all_files = ['categoriiB.csv', 'smeshnye_anekdoty.csv', 'baneksbest.csv', 'anecdotess.csv', \n",
    "            'megaotriv.csv', 'anecdotes.csv', 'anekdot.csv', 'anekdot18p.csv', \n",
    "            'best_jokes.csv', 'a_story.csv', 'anek_net.csv', 'an18p.csv', \n",
    "            'lookpics.csv', 'anekdotshort.csv', 'anekdotpremium.csv', 'luchshiyeanekdoty.csv',\n",
    "            'jewishpugs.csv', 'lolstory.csv']\n",
    "len(all_files)"
   ]
  },
  {
   "cell_type": "code",
   "execution_count": 38,
   "id": "dd6d768a-6aa1-4810-9dc5-5c1432aa2b39",
   "metadata": {},
   "outputs": [
    {
     "name": "stderr",
     "output_type": "stream",
     "text": [
      "100%|█████████████████████████████████████████████████████████████████████████████████████| 18/18 [00:22<00:00,  1.25s/it]\n"
     ]
    }
   ],
   "source": [
    "result = []\n",
    "bad_words = ['http', 'https', 'vk', 'com', 'vkontakte', 'реклама', 'заработать', 'заработок',\n",
    "             'mail', 'выбор', 'api', 'лайк', 'лайки', 'репост', 'инвестиции', 'инветициях',\n",
    "             'api', 'img', 'jpg', 'source', 'вконтакте'\n",
    "            ]\n",
    "for file in tqdm(all_files):\n",
    "    data = pd.read_csv(file)\n",
    "    for line in data['text'].astype('str').values:\n",
    "        f = True\n",
    "        if not line.strip():\n",
    "            f = False\n",
    "            continue\n",
    "        if len(line) < 40:\n",
    "            f = False\n",
    "            continue\n",
    "        line_lower = line.lower()\n",
    "        for bad_word in bad_words:\n",
    "            if bad_word in line_lower:\n",
    "                f = False\n",
    "        if f:\n",
    "            result.append(line)"
   ]
  },
  {
   "cell_type": "code",
   "execution_count": 39,
   "id": "965efdfa-ad08-4c71-a131-df49286ff4fb",
   "metadata": {},
   "outputs": [
    {
     "data": {
      "text/html": [
       "<div>\n",
       "<style scoped>\n",
       "    .dataframe tbody tr th:only-of-type {\n",
       "        vertical-align: middle;\n",
       "    }\n",
       "\n",
       "    .dataframe tbody tr th {\n",
       "        vertical-align: top;\n",
       "    }\n",
       "\n",
       "    .dataframe thead th {\n",
       "        text-align: right;\n",
       "    }\n",
       "</style>\n",
       "<table border=\"1\" class=\"dataframe\">\n",
       "  <thead>\n",
       "    <tr style=\"text-align: right;\">\n",
       "      <th></th>\n",
       "      <th>text</th>\n",
       "    </tr>\n",
       "  </thead>\n",
       "  <tbody>\n",
       "    <tr>\n",
       "      <th>0</th>\n",
       "      <td>Сильно пьяного Пушкина не пускают на бал. Лерм...</td>\n",
       "    </tr>\n",
       "    <tr>\n",
       "      <th>1</th>\n",
       "      <td>Что делает вебкам-модель на маяке? \\n \\nСветит...</td>\n",
       "    </tr>\n",
       "    <tr>\n",
       "      <th>2</th>\n",
       "      <td>Заходит человек в магазин тканей: \\n— Отмерьте...</td>\n",
       "    </tr>\n",
       "    <tr>\n",
       "      <th>3</th>\n",
       "      <td>Штирлиц обкурился, стоит перед зеркалом: \\n \\n...</td>\n",
       "    </tr>\n",
       "    <tr>\n",
       "      <th>4</th>\n",
       "      <td>— Смотрел вчера хоккей? \\n— Да. \\n— Видал как ...</td>\n",
       "    </tr>\n",
       "    <tr>\n",
       "      <th>...</th>\n",
       "      <td>...</td>\n",
       "    </tr>\n",
       "    <tr>\n",
       "      <th>975129</th>\n",
       "      <td>В один престижный бутик заходит блондинистая к...</td>\n",
       "    </tr>\n",
       "    <tr>\n",
       "      <th>975130</th>\n",
       "      <td>Маршрутка. Заходит бабулька божий одуванчик. П...</td>\n",
       "    </tr>\n",
       "    <tr>\n",
       "      <th>975131</th>\n",
       "      <td>И чего только пьяному человеку в голову не при...</td>\n",
       "    </tr>\n",
       "    <tr>\n",
       "      <th>975132</th>\n",
       "      <td>Двое мужиков покупают водку. К верхушке бутылк...</td>\n",
       "    </tr>\n",
       "    <tr>\n",
       "      <th>975133</th>\n",
       "      <td>Мой друг входит в топ-менеджмент одного банка....</td>\n",
       "    </tr>\n",
       "  </tbody>\n",
       "</table>\n",
       "<p>975134 rows × 1 columns</p>\n",
       "</div>"
      ],
      "text/plain": [
       "                                                     text\n",
       "0       Сильно пьяного Пушкина не пускают на бал. Лерм...\n",
       "1       Что делает вебкам-модель на маяке? \\n \\nСветит...\n",
       "2       Заходит человек в магазин тканей: \\n— Отмерьте...\n",
       "3       Штирлиц обкурился, стоит перед зеркалом: \\n \\n...\n",
       "4       — Смотрел вчера хоккей? \\n— Да. \\n— Видал как ...\n",
       "...                                                   ...\n",
       "975129  В один престижный бутик заходит блондинистая к...\n",
       "975130  Маршрутка. Заходит бабулька божий одуванчик. П...\n",
       "975131  И чего только пьяному человеку в голову не при...\n",
       "975132  Двое мужиков покупают водку. К верхушке бутылк...\n",
       "975133  Мой друг входит в топ-менеджмент одного банка....\n",
       "\n",
       "[975134 rows x 1 columns]"
      ]
     },
     "metadata": {},
     "output_type": "display_data"
    }
   ],
   "source": [
    "data = pd.DataFrame({'text':result})\n",
    "display(data)"
   ]
  },
  {
   "cell_type": "code",
   "execution_count": 40,
   "id": "ff3deb74-c5ab-48de-85bb-96c1813a5c5a",
   "metadata": {},
   "outputs": [],
   "source": [
    "ENGletters = list('abcdefghijklmnopqrstuvwxyz' + 'abcdefghijklmnopqrstuvwxyz'.upper())"
   ]
  },
  {
   "cell_type": "code",
   "execution_count": 41,
   "id": "e0617413-e56c-4d4e-9376-a7c6f6b72be9",
   "metadata": {},
   "outputs": [
    {
     "data": {
      "text/html": [
       "<div>\n",
       "<style scoped>\n",
       "    .dataframe tbody tr th:only-of-type {\n",
       "        vertical-align: middle;\n",
       "    }\n",
       "\n",
       "    .dataframe tbody tr th {\n",
       "        vertical-align: top;\n",
       "    }\n",
       "\n",
       "    .dataframe thead th {\n",
       "        text-align: right;\n",
       "    }\n",
       "</style>\n",
       "<table border=\"1\" class=\"dataframe\">\n",
       "  <thead>\n",
       "    <tr style=\"text-align: right;\">\n",
       "      <th></th>\n",
       "      <th>text</th>\n",
       "    </tr>\n",
       "  </thead>\n",
       "  <tbody>\n",
       "    <tr>\n",
       "      <th>0</th>\n",
       "      <td>Сильно пьяного Пушкина не пускают на бал. Лерм...</td>\n",
       "    </tr>\n",
       "    <tr>\n",
       "      <th>1</th>\n",
       "      <td>Что делает вебкам-модель на маяке? \\n \\nСветит...</td>\n",
       "    </tr>\n",
       "    <tr>\n",
       "      <th>2</th>\n",
       "      <td>Заходит человек в магазин тканей: \\n— Отмерьте...</td>\n",
       "    </tr>\n",
       "    <tr>\n",
       "      <th>3</th>\n",
       "      <td>Штирлиц обкурился, стоит перед зеркалом: \\n \\n...</td>\n",
       "    </tr>\n",
       "    <tr>\n",
       "      <th>4</th>\n",
       "      <td>— Смотрел вчера хоккей? \\n— Да. \\n— Видал как ...</td>\n",
       "    </tr>\n",
       "    <tr>\n",
       "      <th>...</th>\n",
       "      <td>...</td>\n",
       "    </tr>\n",
       "    <tr>\n",
       "      <th>796419</th>\n",
       "      <td>В один престижный бутик заходит блондинистая к...</td>\n",
       "    </tr>\n",
       "    <tr>\n",
       "      <th>796420</th>\n",
       "      <td>Маршрутка. Заходит бабулька божий одуванчик. П...</td>\n",
       "    </tr>\n",
       "    <tr>\n",
       "      <th>796421</th>\n",
       "      <td>И чего только пьяному человеку в голову не при...</td>\n",
       "    </tr>\n",
       "    <tr>\n",
       "      <th>796422</th>\n",
       "      <td>Двое мужиков покупают водку. К верхушке бутылк...</td>\n",
       "    </tr>\n",
       "    <tr>\n",
       "      <th>796423</th>\n",
       "      <td>Мой друг входит в топ-менеджмент одного банка....</td>\n",
       "    </tr>\n",
       "  </tbody>\n",
       "</table>\n",
       "<p>796424 rows × 1 columns</p>\n",
       "</div>"
      ],
      "text/plain": [
       "                                                     text\n",
       "0       Сильно пьяного Пушкина не пускают на бал. Лерм...\n",
       "1       Что делает вебкам-модель на маяке? \\n \\nСветит...\n",
       "2       Заходит человек в магазин тканей: \\n— Отмерьте...\n",
       "3       Штирлиц обкурился, стоит перед зеркалом: \\n \\n...\n",
       "4       — Смотрел вчера хоккей? \\n— Да. \\n— Видал как ...\n",
       "...                                                   ...\n",
       "796419  В один престижный бутик заходит блондинистая к...\n",
       "796420  Маршрутка. Заходит бабулька божий одуванчик. П...\n",
       "796421  И чего только пьяному человеку в голову не при...\n",
       "796422  Двое мужиков покупают водку. К верхушке бутылк...\n",
       "796423  Мой друг входит в топ-менеджмент одного банка....\n",
       "\n",
       "[796424 rows x 1 columns]"
      ]
     },
     "execution_count": 41,
     "metadata": {},
     "output_type": "execute_result"
    }
   ],
   "source": [
    "data = data[~data['text'].str.contains('|'.join(ENGletters))]\n",
    "data.reset_index(drop=True)"
   ]
  },
  {
   "cell_type": "code",
   "execution_count": 42,
   "id": "9148402a-fb86-4bb7-b2d3-51c8c5a09e2a",
   "metadata": {},
   "outputs": [
    {
     "data": {
      "text/html": [
       "<div>\n",
       "<style scoped>\n",
       "    .dataframe tbody tr th:only-of-type {\n",
       "        vertical-align: middle;\n",
       "    }\n",
       "\n",
       "    .dataframe tbody tr th {\n",
       "        vertical-align: top;\n",
       "    }\n",
       "\n",
       "    .dataframe thead th {\n",
       "        text-align: right;\n",
       "    }\n",
       "</style>\n",
       "<table border=\"1\" class=\"dataframe\">\n",
       "  <thead>\n",
       "    <tr style=\"text-align: right;\">\n",
       "      <th></th>\n",
       "      <th>text</th>\n",
       "    </tr>\n",
       "  </thead>\n",
       "  <tbody>\n",
       "    <tr>\n",
       "      <th>0</th>\n",
       "      <td>Сильно пьяного Пушкина не пускают на бал. Лерм...</td>\n",
       "    </tr>\n",
       "    <tr>\n",
       "      <th>1</th>\n",
       "      <td>Что делает вебкам-модель на маяке? \\n \\nСветит...</td>\n",
       "    </tr>\n",
       "    <tr>\n",
       "      <th>2</th>\n",
       "      <td>Заходит человек в магазин тканей: \\n— Отмерьте...</td>\n",
       "    </tr>\n",
       "    <tr>\n",
       "      <th>3</th>\n",
       "      <td>Штирлиц обкурился, стоит перед зеркалом: \\n \\n...</td>\n",
       "    </tr>\n",
       "    <tr>\n",
       "      <th>4</th>\n",
       "      <td>— Смотрел вчера хоккей? \\n— Да. \\n— Видал как ...</td>\n",
       "    </tr>\n",
       "    <tr>\n",
       "      <th>...</th>\n",
       "      <td>...</td>\n",
       "    </tr>\n",
       "    <tr>\n",
       "      <th>319761</th>\n",
       "      <td>Это абсолютно реальная история, которую расска...</td>\n",
       "    </tr>\n",
       "    <tr>\n",
       "      <th>319762</th>\n",
       "      <td>В один престижный бутик заходит блондинистая к...</td>\n",
       "    </tr>\n",
       "    <tr>\n",
       "      <th>319763</th>\n",
       "      <td>Маршрутка. Заходит бабулька божий одуванчик. П...</td>\n",
       "    </tr>\n",
       "    <tr>\n",
       "      <th>319764</th>\n",
       "      <td>И чего только пьяному человеку в голову не при...</td>\n",
       "    </tr>\n",
       "    <tr>\n",
       "      <th>319765</th>\n",
       "      <td>Мой друг входит в топ-менеджмент одного банка....</td>\n",
       "    </tr>\n",
       "  </tbody>\n",
       "</table>\n",
       "<p>319766 rows × 1 columns</p>\n",
       "</div>"
      ],
      "text/plain": [
       "                                                     text\n",
       "0       Сильно пьяного Пушкина не пускают на бал. Лерм...\n",
       "1       Что делает вебкам-модель на маяке? \\n \\nСветит...\n",
       "2       Заходит человек в магазин тканей: \\n— Отмерьте...\n",
       "3       Штирлиц обкурился, стоит перед зеркалом: \\n \\n...\n",
       "4       — Смотрел вчера хоккей? \\n— Да. \\n— Видал как ...\n",
       "...                                                   ...\n",
       "319761  Это абсолютно реальная история, которую расска...\n",
       "319762  В один престижный бутик заходит блондинистая к...\n",
       "319763  Маршрутка. Заходит бабулька божий одуванчик. П...\n",
       "319764  И чего только пьяному человеку в голову не при...\n",
       "319765  Мой друг входит в топ-менеджмент одного банка....\n",
       "\n",
       "[319766 rows x 1 columns]"
      ]
     },
     "execution_count": 42,
     "metadata": {},
     "output_type": "execute_result"
    }
   ],
   "source": [
    "data = data.drop_duplicates()\n",
    "data = data.reset_index(drop=True)\n",
    "data"
   ]
  },
  {
   "cell_type": "code",
   "execution_count": 43,
   "id": "b3eb6f3d-a9d7-4830-88db-e290b1c908af",
   "metadata": {},
   "outputs": [
    {
     "data": {
      "text/plain": [
       "array([     0,      1,      2, ..., 319763, 319764, 319765])"
      ]
     },
     "execution_count": 43,
     "metadata": {},
     "output_type": "execute_result"
    }
   ],
   "source": [
    "unique_ind = data['text'].apply(lambda x: re.sub(r'[^а-яА-Я0-9]', '', x.lower())).drop_duplicates().index.values\n",
    "unique_ind"
   ]
  },
  {
   "cell_type": "code",
   "execution_count": 47,
   "id": "4cce169c-1823-4e2b-ae44-d126ac402ce7",
   "metadata": {},
   "outputs": [
    {
     "data": {
      "text/html": [
       "<div>\n",
       "<style scoped>\n",
       "    .dataframe tbody tr th:only-of-type {\n",
       "        vertical-align: middle;\n",
       "    }\n",
       "\n",
       "    .dataframe tbody tr th {\n",
       "        vertical-align: top;\n",
       "    }\n",
       "\n",
       "    .dataframe thead th {\n",
       "        text-align: right;\n",
       "    }\n",
       "</style>\n",
       "<table border=\"1\" class=\"dataframe\">\n",
       "  <thead>\n",
       "    <tr style=\"text-align: right;\">\n",
       "      <th></th>\n",
       "      <th>text</th>\n",
       "    </tr>\n",
       "  </thead>\n",
       "  <tbody>\n",
       "    <tr>\n",
       "      <th>0</th>\n",
       "      <td>Сильно пьяного Пушкина не пускают на бал. Лерм...</td>\n",
       "    </tr>\n",
       "    <tr>\n",
       "      <th>1</th>\n",
       "      <td>Что делает вебкам-модель на маяке? \\n \\nСветит...</td>\n",
       "    </tr>\n",
       "    <tr>\n",
       "      <th>2</th>\n",
       "      <td>Заходит человек в магазин тканей: \\n— Отмерьте...</td>\n",
       "    </tr>\n",
       "    <tr>\n",
       "      <th>3</th>\n",
       "      <td>Штирлиц обкурился, стоит перед зеркалом: \\n \\n...</td>\n",
       "    </tr>\n",
       "    <tr>\n",
       "      <th>4</th>\n",
       "      <td>— Смотрел вчера хоккей? \\n— Да. \\n— Видал как ...</td>\n",
       "    </tr>\n",
       "    <tr>\n",
       "      <th>...</th>\n",
       "      <td>...</td>\n",
       "    </tr>\n",
       "    <tr>\n",
       "      <th>233678</th>\n",
       "      <td>Это абсолютно реальная история, которую расска...</td>\n",
       "    </tr>\n",
       "    <tr>\n",
       "      <th>233679</th>\n",
       "      <td>В один престижный бутик заходит блондинистая к...</td>\n",
       "    </tr>\n",
       "    <tr>\n",
       "      <th>233680</th>\n",
       "      <td>Маршрутка. Заходит бабулька божий одуванчик. П...</td>\n",
       "    </tr>\n",
       "    <tr>\n",
       "      <th>233681</th>\n",
       "      <td>И чего только пьяному человеку в голову не при...</td>\n",
       "    </tr>\n",
       "    <tr>\n",
       "      <th>233682</th>\n",
       "      <td>Мой друг входит в топ-менеджмент одного банка....</td>\n",
       "    </tr>\n",
       "  </tbody>\n",
       "</table>\n",
       "<p>233683 rows × 1 columns</p>\n",
       "</div>"
      ],
      "text/plain": [
       "                                                     text\n",
       "0       Сильно пьяного Пушкина не пускают на бал. Лерм...\n",
       "1       Что делает вебкам-модель на маяке? \\n \\nСветит...\n",
       "2       Заходит человек в магазин тканей: \\n— Отмерьте...\n",
       "3       Штирлиц обкурился, стоит перед зеркалом: \\n \\n...\n",
       "4       — Смотрел вчера хоккей? \\n— Да. \\n— Видал как ...\n",
       "...                                                   ...\n",
       "233678  Это абсолютно реальная история, которую расска...\n",
       "233679  В один престижный бутик заходит блондинистая к...\n",
       "233680  Маршрутка. Заходит бабулька божий одуванчик. П...\n",
       "233681  И чего только пьяному человеку в голову не при...\n",
       "233682  Мой друг входит в топ-менеджмент одного банка....\n",
       "\n",
       "[233683 rows x 1 columns]"
      ]
     },
     "execution_count": 47,
     "metadata": {},
     "output_type": "execute_result"
    }
   ],
   "source": [
    "data = data.iloc[unique_ind]\n",
    "data = data.reset_index(drop=True)\n",
    "data"
   ]
  },
  {
   "cell_type": "code",
   "execution_count": 49,
   "id": "cb753fca-7ce3-48bd-bd27-57dd7d253326",
   "metadata": {},
   "outputs": [],
   "source": [
    "data.to_csv('anekdots_result.csv', index=False)"
   ]
  }
 ],
 "metadata": {
  "kernelspec": {
   "display_name": "Python 3 (ipykernel)",
   "language": "python",
   "name": "python3"
  },
  "language_info": {
   "codemirror_mode": {
    "name": "ipython",
    "version": 3
   },
   "file_extension": ".py",
   "mimetype": "text/x-python",
   "name": "python",
   "nbconvert_exporter": "python",
   "pygments_lexer": "ipython3",
   "version": "3.10.9"
  }
 },
 "nbformat": 4,
 "nbformat_minor": 5
}
